{
 "cells": [
  {
   "cell_type": "markdown",
   "metadata": {},
   "source": [
    "## Import Libraries"
   ]
  },
  {
   "cell_type": "code",
   "execution_count": 1,
   "metadata": {},
   "outputs": [],
   "source": [
    "%matplotlib inline\n",
    "import os\n",
    "import pandas as pd\n",
    "import seaborn as sns\n",
    "import matplotlib.pyplot as plt\n",
    "import matplotlib.font_manager as font_manager\n",
    "import openpyxl\n",
    "import openpyxl.drawing.image\n",
    "import ydata_profiling\n",
    "from ydata_profiling import ProfileReport"
   ]
  },
  {
   "cell_type": "markdown",
   "metadata": {},
   "source": [
    "<span style=\"font-size: 22px;\">Read the processed dataset</span>"
   ]
  },
  {
   "cell_type": "code",
   "execution_count": 2,
   "metadata": {},
   "outputs": [
    {
     "data": {
      "text/html": [
       "<div>\n",
       "<style scoped>\n",
       "    .dataframe tbody tr th:only-of-type {\n",
       "        vertical-align: middle;\n",
       "    }\n",
       "\n",
       "    .dataframe tbody tr th {\n",
       "        vertical-align: top;\n",
       "    }\n",
       "\n",
       "    .dataframe thead th {\n",
       "        text-align: right;\n",
       "    }\n",
       "</style>\n",
       "<table border=\"1\" class=\"dataframe\">\n",
       "  <thead>\n",
       "    <tr style=\"text-align: right;\">\n",
       "      <th></th>\n",
       "      <th>kay_contactid</th>\n",
       "      <th>Gender</th>\n",
       "      <th>birthdate</th>\n",
       "      <th>HNI Customer</th>\n",
       "      <th>Customer Concern</th>\n",
       "      <th>age</th>\n",
       "      <th>abs_age</th>\n",
       "      <th>age_range</th>\n",
       "      <th>Zone</th>\n",
       "      <th>Item</th>\n",
       "      <th>...</th>\n",
       "      <th>CenterCode</th>\n",
       "      <th>Invoicecenter</th>\n",
       "      <th>PackageValiditydays</th>\n",
       "      <th>Free</th>\n",
       "      <th>AQU</th>\n",
       "      <th>status2</th>\n",
       "      <th>ExistNewTag</th>\n",
       "      <th>Churn</th>\n",
       "      <th>month</th>\n",
       "      <th>year</th>\n",
       "    </tr>\n",
       "  </thead>\n",
       "  <tbody>\n",
       "    <tr>\n",
       "      <th>0</th>\n",
       "      <td>INGC43850</td>\n",
       "      <td>Female</td>\n",
       "      <td>1996-08-08</td>\n",
       "      <td>No</td>\n",
       "      <td>NaN</td>\n",
       "      <td>28</td>\n",
       "      <td>28</td>\n",
       "      <td>20-30</td>\n",
       "      <td>SOUTH-Piyali S</td>\n",
       "      <td>Package</td>\n",
       "      <td>...</td>\n",
       "      <td>KAM9</td>\n",
       "      <td>NaN</td>\n",
       "      <td>540</td>\n",
       "      <td>no</td>\n",
       "      <td>No</td>\n",
       "      <td>LIVE</td>\n",
       "      <td>New</td>\n",
       "      <td>0</td>\n",
       "      <td>7</td>\n",
       "      <td>2021</td>\n",
       "    </tr>\n",
       "    <tr>\n",
       "      <th>1</th>\n",
       "      <td>INGC43903</td>\n",
       "      <td>Female</td>\n",
       "      <td>2001-01-16</td>\n",
       "      <td>Yes</td>\n",
       "      <td>NaN</td>\n",
       "      <td>23</td>\n",
       "      <td>23</td>\n",
       "      <td>20-30</td>\n",
       "      <td>SOUTH-Piyali S</td>\n",
       "      <td>Package</td>\n",
       "      <td>...</td>\n",
       "      <td>KAM9</td>\n",
       "      <td>NaN</td>\n",
       "      <td>30</td>\n",
       "      <td>no</td>\n",
       "      <td>No</td>\n",
       "      <td>LIVE</td>\n",
       "      <td>Existing</td>\n",
       "      <td>1</td>\n",
       "      <td>8</td>\n",
       "      <td>2021</td>\n",
       "    </tr>\n",
       "    <tr>\n",
       "      <th>2</th>\n",
       "      <td>INGC43949</td>\n",
       "      <td>Female</td>\n",
       "      <td>1999-02-02</td>\n",
       "      <td>Yes</td>\n",
       "      <td>NaN</td>\n",
       "      <td>25</td>\n",
       "      <td>25</td>\n",
       "      <td>20-30</td>\n",
       "      <td>SOUTH-Piyali S</td>\n",
       "      <td>Package</td>\n",
       "      <td>...</td>\n",
       "      <td>KAM9</td>\n",
       "      <td>NaN</td>\n",
       "      <td>540</td>\n",
       "      <td>no</td>\n",
       "      <td>No</td>\n",
       "      <td>LIVE</td>\n",
       "      <td>Existing</td>\n",
       "      <td>0</td>\n",
       "      <td>9</td>\n",
       "      <td>2021</td>\n",
       "    </tr>\n",
       "    <tr>\n",
       "      <th>3</th>\n",
       "      <td>INGC43949</td>\n",
       "      <td>Female</td>\n",
       "      <td>1999-02-02</td>\n",
       "      <td>Yes</td>\n",
       "      <td>NaN</td>\n",
       "      <td>25</td>\n",
       "      <td>25</td>\n",
       "      <td>20-30</td>\n",
       "      <td>SOUTH-Piyali S</td>\n",
       "      <td>Package</td>\n",
       "      <td>...</td>\n",
       "      <td>KAM9</td>\n",
       "      <td>NaN</td>\n",
       "      <td>540</td>\n",
       "      <td>no</td>\n",
       "      <td>No</td>\n",
       "      <td>LIVE</td>\n",
       "      <td>Existing</td>\n",
       "      <td>0</td>\n",
       "      <td>9</td>\n",
       "      <td>2021</td>\n",
       "    </tr>\n",
       "    <tr>\n",
       "      <th>4</th>\n",
       "      <td>INGC43949</td>\n",
       "      <td>Female</td>\n",
       "      <td>1999-02-02</td>\n",
       "      <td>Yes</td>\n",
       "      <td>NaN</td>\n",
       "      <td>25</td>\n",
       "      <td>25</td>\n",
       "      <td>20-30</td>\n",
       "      <td>SOUTH-Piyali S</td>\n",
       "      <td>Package</td>\n",
       "      <td>...</td>\n",
       "      <td>KAM9</td>\n",
       "      <td>NaN</td>\n",
       "      <td>540</td>\n",
       "      <td>no</td>\n",
       "      <td>No</td>\n",
       "      <td>LIVE</td>\n",
       "      <td>Existing</td>\n",
       "      <td>0</td>\n",
       "      <td>1</td>\n",
       "      <td>2022</td>\n",
       "    </tr>\n",
       "  </tbody>\n",
       "</table>\n",
       "<p>5 rows × 29 columns</p>\n",
       "</div>"
      ],
      "text/plain": [
       "  kay_contactid  Gender   birthdate HNI Customer  Customer Concern  age  \\\n",
       "0     INGC43850  Female  1996-08-08           No               NaN   28   \n",
       "1     INGC43903  Female  2001-01-16          Yes               NaN   23   \n",
       "2     INGC43949  Female  1999-02-02          Yes               NaN   25   \n",
       "3     INGC43949  Female  1999-02-02          Yes               NaN   25   \n",
       "4     INGC43949  Female  1999-02-02          Yes               NaN   25   \n",
       "\n",
       "   abs_age age_range            Zone     Item  ... CenterCode Invoicecenter  \\\n",
       "0       28     20-30  SOUTH-Piyali S  Package  ...       KAM9           NaN   \n",
       "1       23     20-30  SOUTH-Piyali S  Package  ...       KAM9           NaN   \n",
       "2       25     20-30  SOUTH-Piyali S  Package  ...       KAM9           NaN   \n",
       "3       25     20-30  SOUTH-Piyali S  Package  ...       KAM9           NaN   \n",
       "4       25     20-30  SOUTH-Piyali S  Package  ...       KAM9           NaN   \n",
       "\n",
       "  PackageValiditydays Free AQU  status2 ExistNewTag Churn month  year  \n",
       "0                 540   no  No     LIVE         New     0     7  2021  \n",
       "1                  30   no  No     LIVE    Existing     1     8  2021  \n",
       "2                 540   no  No     LIVE    Existing     0     9  2021  \n",
       "3                 540   no  No     LIVE    Existing     0     9  2021  \n",
       "4                 540   no  No     LIVE    Existing     0     1  2022  \n",
       "\n",
       "[5 rows x 29 columns]"
      ]
     },
     "execution_count": 2,
     "metadata": {},
     "output_type": "execute_result"
    }
   ],
   "source": [
    "file_path = '../output/finalData.csv'\n",
    "df = pd.read_csv(file_path)\n",
    "df.head(5)"
   ]
  },
  {
   "cell_type": "code",
   "execution_count": null,
   "metadata": {},
   "outputs": [],
   "source": [
    "# To drop duplicates in place without creating a new DataFrame\n",
    "df.drop_duplicates(inplace=True)"
   ]
  },
  {
   "cell_type": "markdown",
   "metadata": {},
   "source": [
    "## Data Analysis"
   ]
  },
  {
   "cell_type": "code",
   "execution_count": 3,
   "metadata": {},
   "outputs": [
    {
     "data": {
      "text/plain": [
       "(1744, 29)"
      ]
     },
     "execution_count": 3,
     "metadata": {},
     "output_type": "execute_result"
    }
   ],
   "source": [
    "df.shape"
   ]
  },
  {
   "cell_type": "code",
   "execution_count": 4,
   "metadata": {},
   "outputs": [
    {
     "name": "stdout",
     "output_type": "stream",
     "text": [
      "<class 'pandas.core.frame.DataFrame'>\n",
      "RangeIndex: 1744 entries, 0 to 1743\n",
      "Data columns (total 29 columns):\n",
      " #   Column               Non-Null Count  Dtype  \n",
      "---  ------               --------------  -----  \n",
      " 0   kay_contactid        1743 non-null   object \n",
      " 1   Gender               1725 non-null   object \n",
      " 2   birthdate            1744 non-null   object \n",
      " 3   HNI Customer         1744 non-null   object \n",
      " 4   Customer Concern     0 non-null      float64\n",
      " 5   age                  1744 non-null   int64  \n",
      " 6   abs_age              1744 non-null   int64  \n",
      " 7   age_range            1744 non-null   object \n",
      " 8   Zone                 1744 non-null   object \n",
      " 9   Item                 1744 non-null   object \n",
      " 10  BusinessUnit         1744 non-null   object \n",
      " 11  InvoiceCenterCode    1744 non-null   object \n",
      " 12  Promotion            1744 non-null   object \n",
      " 13  TierName             1723 non-null   object \n",
      " 14  finalInvoiceId       1744 non-null   object \n",
      " 15  FinalAmount          1744 non-null   int64  \n",
      " 16  Category             1744 non-null   object \n",
      " 17  PackageCode          1744 non-null   object \n",
      " 18  Marketbucket         1670 non-null   object \n",
      " 19  CenterCode           1744 non-null   object \n",
      " 20  Invoicecenter        0 non-null      float64\n",
      " 21  PackageValiditydays  1744 non-null   int64  \n",
      " 22  Free                 1744 non-null   object \n",
      " 23  AQU                  1744 non-null   object \n",
      " 24  status2              1713 non-null   object \n",
      " 25  ExistNewTag          1744 non-null   object \n",
      " 26  Churn                1744 non-null   int64  \n",
      " 27  month                1744 non-null   int64  \n",
      " 28  year                 1744 non-null   int64  \n",
      "dtypes: float64(2), int64(7), object(20)\n",
      "memory usage: 395.3+ KB\n"
     ]
    }
   ],
   "source": [
    "df.info()"
   ]
  },
  {
   "cell_type": "code",
   "execution_count": 5,
   "metadata": {},
   "outputs": [
    {
     "data": {
      "text/html": [
       "<div>\n",
       "<style scoped>\n",
       "    .dataframe tbody tr th:only-of-type {\n",
       "        vertical-align: middle;\n",
       "    }\n",
       "\n",
       "    .dataframe tbody tr th {\n",
       "        vertical-align: top;\n",
       "    }\n",
       "\n",
       "    .dataframe thead th {\n",
       "        text-align: right;\n",
       "    }\n",
       "</style>\n",
       "<table border=\"1\" class=\"dataframe\">\n",
       "  <thead>\n",
       "    <tr style=\"text-align: right;\">\n",
       "      <th></th>\n",
       "      <th>Customer Concern</th>\n",
       "      <th>age</th>\n",
       "      <th>abs_age</th>\n",
       "      <th>FinalAmount</th>\n",
       "      <th>Invoicecenter</th>\n",
       "      <th>PackageValiditydays</th>\n",
       "      <th>Churn</th>\n",
       "      <th>month</th>\n",
       "      <th>year</th>\n",
       "    </tr>\n",
       "  </thead>\n",
       "  <tbody>\n",
       "    <tr>\n",
       "      <th>count</th>\n",
       "      <td>0.0</td>\n",
       "      <td>1744.000000</td>\n",
       "      <td>1744.000000</td>\n",
       "      <td>1744.000000</td>\n",
       "      <td>0.0</td>\n",
       "      <td>1744.000000</td>\n",
       "      <td>1744.000000</td>\n",
       "      <td>1744.000000</td>\n",
       "      <td>1744.000000</td>\n",
       "    </tr>\n",
       "    <tr>\n",
       "      <th>mean</th>\n",
       "      <td>NaN</td>\n",
       "      <td>26.490826</td>\n",
       "      <td>28.462156</td>\n",
       "      <td>39664.678899</td>\n",
       "      <td>NaN</td>\n",
       "      <td>392.006881</td>\n",
       "      <td>0.419725</td>\n",
       "      <td>6.704128</td>\n",
       "      <td>2021.397936</td>\n",
       "    </tr>\n",
       "    <tr>\n",
       "      <th>std</th>\n",
       "      <td>NaN</td>\n",
       "      <td>12.477078</td>\n",
       "      <td>6.876398</td>\n",
       "      <td>37433.246657</td>\n",
       "      <td>NaN</td>\n",
       "      <td>183.468973</td>\n",
       "      <td>0.493655</td>\n",
       "      <td>4.018555</td>\n",
       "      <td>0.489612</td>\n",
       "    </tr>\n",
       "    <tr>\n",
       "      <th>min</th>\n",
       "      <td>NaN</td>\n",
       "      <td>-50.000000</td>\n",
       "      <td>3.000000</td>\n",
       "      <td>-1.000000</td>\n",
       "      <td>NaN</td>\n",
       "      <td>30.000000</td>\n",
       "      <td>0.000000</td>\n",
       "      <td>1.000000</td>\n",
       "      <td>2021.000000</td>\n",
       "    </tr>\n",
       "    <tr>\n",
       "      <th>25%</th>\n",
       "      <td>NaN</td>\n",
       "      <td>24.000000</td>\n",
       "      <td>24.000000</td>\n",
       "      <td>9575.000000</td>\n",
       "      <td>NaN</td>\n",
       "      <td>180.000000</td>\n",
       "      <td>0.000000</td>\n",
       "      <td>3.000000</td>\n",
       "      <td>2021.000000</td>\n",
       "    </tr>\n",
       "    <tr>\n",
       "      <th>50%</th>\n",
       "      <td>NaN</td>\n",
       "      <td>24.000000</td>\n",
       "      <td>24.000000</td>\n",
       "      <td>29670.000000</td>\n",
       "      <td>NaN</td>\n",
       "      <td>540.000000</td>\n",
       "      <td>0.000000</td>\n",
       "      <td>8.000000</td>\n",
       "      <td>2021.000000</td>\n",
       "    </tr>\n",
       "    <tr>\n",
       "      <th>75%</th>\n",
       "      <td>NaN</td>\n",
       "      <td>32.000000</td>\n",
       "      <td>32.000000</td>\n",
       "      <td>63090.000000</td>\n",
       "      <td>NaN</td>\n",
       "      <td>540.000000</td>\n",
       "      <td>1.000000</td>\n",
       "      <td>10.000000</td>\n",
       "      <td>2022.000000</td>\n",
       "    </tr>\n",
       "    <tr>\n",
       "      <th>max</th>\n",
       "      <td>NaN</td>\n",
       "      <td>50.000000</td>\n",
       "      <td>50.000000</td>\n",
       "      <td>239460.000000</td>\n",
       "      <td>NaN</td>\n",
       "      <td>540.000000</td>\n",
       "      <td>1.000000</td>\n",
       "      <td>12.000000</td>\n",
       "      <td>2022.000000</td>\n",
       "    </tr>\n",
       "  </tbody>\n",
       "</table>\n",
       "</div>"
      ],
      "text/plain": [
       "       Customer Concern          age      abs_age    FinalAmount  \\\n",
       "count               0.0  1744.000000  1744.000000    1744.000000   \n",
       "mean                NaN    26.490826    28.462156   39664.678899   \n",
       "std                 NaN    12.477078     6.876398   37433.246657   \n",
       "min                 NaN   -50.000000     3.000000      -1.000000   \n",
       "25%                 NaN    24.000000    24.000000    9575.000000   \n",
       "50%                 NaN    24.000000    24.000000   29670.000000   \n",
       "75%                 NaN    32.000000    32.000000   63090.000000   \n",
       "max                 NaN    50.000000    50.000000  239460.000000   \n",
       "\n",
       "       Invoicecenter  PackageValiditydays        Churn        month  \\\n",
       "count            0.0          1744.000000  1744.000000  1744.000000   \n",
       "mean             NaN           392.006881     0.419725     6.704128   \n",
       "std              NaN           183.468973     0.493655     4.018555   \n",
       "min              NaN            30.000000     0.000000     1.000000   \n",
       "25%              NaN           180.000000     0.000000     3.000000   \n",
       "50%              NaN           540.000000     0.000000     8.000000   \n",
       "75%              NaN           540.000000     1.000000    10.000000   \n",
       "max              NaN           540.000000     1.000000    12.000000   \n",
       "\n",
       "              year  \n",
       "count  1744.000000  \n",
       "mean   2021.397936  \n",
       "std       0.489612  \n",
       "min    2021.000000  \n",
       "25%    2021.000000  \n",
       "50%    2021.000000  \n",
       "75%    2022.000000  \n",
       "max    2022.000000  "
      ]
     },
     "execution_count": 5,
     "metadata": {},
     "output_type": "execute_result"
    }
   ],
   "source": [
    "df.describe()"
   ]
  },
  {
   "cell_type": "code",
   "execution_count": 6,
   "metadata": {},
   "outputs": [
    {
     "data": {
      "text/plain": [
       "kay_contactid          1130\n",
       "Gender                    2\n",
       "birthdate               596\n",
       "HNI Customer              2\n",
       "Customer Concern          0\n",
       "age                      53\n",
       "abs_age                  39\n",
       "age_range                 6\n",
       "Zone                     12\n",
       "Item                      1\n",
       "BusinessUnit             10\n",
       "InvoiceCenterCode        73\n",
       "Promotion               168\n",
       "TierName                  4\n",
       "finalInvoiceId         1221\n",
       "FinalAmount             397\n",
       "Category                 27\n",
       "PackageCode             191\n",
       "Marketbucket             10\n",
       "CenterCode               73\n",
       "Invoicecenter             0\n",
       "PackageValiditydays      19\n",
       "Free                      2\n",
       "AQU                       2\n",
       "status2                   2\n",
       "ExistNewTag               2\n",
       "Churn                     2\n",
       "month                    12\n",
       "year                      2\n",
       "dtype: int64"
      ]
     },
     "execution_count": 6,
     "metadata": {},
     "output_type": "execute_result"
    }
   ],
   "source": [
    "df.nunique()"
   ]
  },
  {
   "cell_type": "code",
   "execution_count": 7,
   "metadata": {},
   "outputs": [
    {
     "name": "stdout",
     "output_type": "stream",
     "text": [
      "Directory already exists: ..\\output\\analysis\n"
     ]
    }
   ],
   "source": [
    "# Define the relative directory path\n",
    "relative_dir = r'..\\output\\analysis'\n",
    "\n",
    "# Check if the directory exists and create it if it doesn't\n",
    "if not os.path.exists(relative_dir):\n",
    "    os.makedirs(relative_dir)\n",
    "    print(f\"Directory created: {relative_dir}\")\n",
    "else:\n",
    "    print(f\"Directory already exists: {relative_dir}\")\n"
   ]
  },
  {
   "cell_type": "markdown",
   "metadata": {},
   "source": [
    "## Pandas Profiling"
   ]
  },
  {
   "cell_type": "code",
   "execution_count": 8,
   "metadata": {},
   "outputs": [
    {
     "data": {
      "application/vnd.jupyter.widget-view+json": {
       "model_id": "86202cd138104a4e8eb82c43816f5193",
       "version_major": 2,
       "version_minor": 0
      },
      "text/plain": [
       "Summarize dataset:   0%|          | 0/5 [00:00<?, ?it/s]"
      ]
     },
     "metadata": {},
     "output_type": "display_data"
    },
    {
     "data": {
      "application/vnd.jupyter.widget-view+json": {
       "model_id": "68db84b30d3341e3911d64e9d3a7f75e",
       "version_major": 2,
       "version_minor": 0
      },
      "text/plain": [
       "Generate report structure:   0%|          | 0/1 [00:00<?, ?it/s]"
      ]
     },
     "metadata": {},
     "output_type": "display_data"
    },
    {
     "data": {
      "application/vnd.jupyter.widget-view+json": {
       "model_id": "669be3023dbc498294d224044ef91cdb",
       "version_major": 2,
       "version_minor": 0
      },
      "text/plain": [
       "Render HTML:   0%|          | 0/1 [00:00<?, ?it/s]"
      ]
     },
     "metadata": {},
     "output_type": "display_data"
    },
    {
     "data": {
      "application/vnd.jupyter.widget-view+json": {
       "model_id": "696c302dc51946eb9edba71a992273e7",
       "version_major": 2,
       "version_minor": 0
      },
      "text/plain": [
       "Export report to file:   0%|          | 0/1 [00:00<?, ?it/s]"
      ]
     },
     "metadata": {},
     "output_type": "display_data"
    }
   ],
   "source": [
    "# Generate a profile report\n",
    "profile = ProfileReport(df, title='Pandas Profiling Report', explorative=True)\n",
    "\n",
    "# Save the report as an HTML file\n",
    "profile.to_file(\"../output/analysis/profiling.html\")"
   ]
  },
  {
   "cell_type": "markdown",
   "metadata": {},
   "source": [
    "## CountPlots using Seaborn and Matplotlib Library"
   ]
  },
  {
   "cell_type": "code",
   "execution_count": 9,
   "metadata": {},
   "outputs": [
    {
     "data": {
      "image/png": "[encoded data removed]",
      "text/plain": [
       "<Figure size 1000x600 with 1 Axes>"
      ]
     },
     "metadata": {},
     "output_type": "display_data"
    }
   ],
   "source": [
    "%matplotlib inline\n",
    "\n",
    "# Create a countplot using seaborn\n",
    "plt.figure(figsize=(10, 6))\n",
    "ax = sns.countplot(data=df, x='age_range', hue='Churn')\n",
    "\n",
    "# Add counts for each category\n",
    "for p in ax.patches:\n",
    "    ax.annotate(f'{p.get_height()}', (p.get_x() + p.get_width() / 2., p.get_height()),\n",
    "                ha='center', va='center', xytext=(0, 10), textcoords='offset points')\n",
    "\n",
    "plt.show()\n"
   ]
  },
  {
   "cell_type": "code",
   "execution_count": 10,
   "metadata": {},
   "outputs": [
    {
     "data": {
      "image/png": "[encoded data removed]",
      "text/plain": [
       "<Figure size 640x480 with 1 Axes>"
      ]
     },
     "metadata": {},
     "output_type": "display_data"
    }
   ],
   "source": [
    "# Aggregate counts of loyal customers (0 and 1) for each age group\n",
    "loyal_counts = df.groupby(['age_range', 'Churn']).size().reset_index(name='Count')\n",
    "\n",
    "# Plot the count of loyal customers\n",
    "sns.countplot(data=df, x='age_range', hue='Churn')\n",
    "\n",
    "# Display legend with count values\n",
    "for p in plt.gca().patches:\n",
    "    height = p.get_height() if not pd.isnull(p.get_height()) else 0\n",
    "    plt.gca().annotate(f'{int(height)}', (p.get_x() + p.get_width() / 2., height), ha='center', va='center', xytext=(0, 10), textcoords='offset points')"
   ]
  },
  {
   "cell_type": "code",
   "execution_count": 11,
   "metadata": {},
   "outputs": [
    {
     "data": {
      "image/png": "[encoded data removed]",
      "text/plain": [
       "<Figure size 1000x600 with 1 Axes>"
      ]
     },
     "metadata": {},
     "output_type": "display_data"
    }
   ],
   "source": [
    "# Create a countplot using seaborn\n",
    "plt.figure(figsize=(10, 6))\n",
    "ax = sns.countplot(data=df, x='age_range', hue='Churn')\n",
    "\n",
    "# Add counts for each category\n",
    "for p in ax.patches:\n",
    "    ax.annotate(f'{p.get_height()}', (p.get_x() + p.get_width() / 2., p.get_height()),\n",
    "                ha='center', va='center', xytext=(0, 10), textcoords='offset points')\n",
    "\n",
    "plt.show()"
   ]
  },
  {
   "cell_type": "code",
   "execution_count": 12,
   "metadata": {},
   "outputs": [
    {
     "data": {
      "image/png": "[encoded data removed]",
      "text/plain": [
       "<Figure size 640x480 with 1 Axes>"
      ]
     },
     "metadata": {},
     "output_type": "display_data"
    }
   ],
   "source": [
    "# Aggregate counts of loyal customers (0 and 1) for each age group\n",
    "loyal_counts = df.groupby(['age_range', 'Churn']).size().reset_index(name='Count')\n",
    "\n",
    "# Plot the count of loyal customers\n",
    "sns.countplot(data=df, x='age_range', hue='Churn')\n",
    "\n",
    "# Display legend with count values\n",
    "for p in plt.gca().patches:\n",
    "    height = p.get_height() if not pd.isnull(p.get_height()) else 0\n",
    "    plt.gca().annotate(f'{int(height)}', (p.get_x() + p.get_width() / 2., height), ha='center', va='center', xytext=(0, 10), textcoords='offset points')"
   ]
  },
  {
   "cell_type": "markdown",
   "metadata": {},
   "source": [
    "## Plotting based on different features and saving them to Excel."
   ]
  },
  {
   "cell_type": "code",
   "execution_count": 16,
   "metadata": {},
   "outputs": [
    {
     "name": "stderr",
     "output_type": "stream",
     "text": [
      "C:\\Users\\goenk\\AppData\\Local\\Temp\\ipykernel_24096\\1185228585.py:54: UserWarning: Tight layout not applied. tight_layout cannot make Axes width small enough to accommodate all Axes decorations\n",
      "  plt.tight_layout()\n",
      "C:\\Users\\goenk\\AppData\\Local\\Temp\\ipykernel_24096\\1185228585.py:54: UserWarning: Creating legend with loc=\"best\" can be slow with large amounts of data.\n",
      "  plt.tight_layout()\n",
      "C:\\Users\\goenk\\AppData\\Local\\Temp\\ipykernel_24096\\1185228585.py:58: UserWarning: Creating legend with loc=\"best\" can be slow with large amounts of data.\n",
      "  plt.savefig(fig_path, bbox_inches='tight')\n"
     ]
    }
   ],
   "source": [
    "# Ensure output directories exist\n",
    "output_dir = '../output/analysis/'\n",
    "if not os.path.exists(output_dir):\n",
    "    os.makedirs(output_dir)\n",
    "\n",
    "# Assuming df['LoyalCustomer'] is the target variable\n",
    "df['Churn'].value_counts()\n",
    "\n",
    "# Set global bar width\n",
    "bar_width = 0.8\n",
    "\n",
    "def plot_categorical(feature, workbook):\n",
    "    fig, (ax1, ax2) = plt.subplots(1, 2, figsize=(14, 6))\n",
    "\n",
    "    sns.countplot(x=feature, hue='Churn', data=df, ax=ax1)\n",
    "    ax1.set_ylabel('Count', fontsize=16, fontweight='bold')\n",
    "    ax1.legend(labels=['Retained', 'Churned'])\n",
    "    ax1.tick_params(axis='both', labelsize=14)\n",
    "\n",
    "    for p in ax1.patches:\n",
    "        ax1.annotate(format(p.get_height(), '.0f'), \n",
    "                      (p.get_x() + p.get_width() / 2., p.get_height()), \n",
    "                      ha='center', va='center', \n",
    "                      xytext=(0, 10), \n",
    "                      textcoords='offset points', \n",
    "                      fontsize=14, fontweight='bold')\n",
    "\n",
    "    churn_rate = df.groupby(feature)['Churn'].mean() * 100\n",
    "    churn_rate = churn_rate.reset_index()\n",
    "    sns.barplot(x=feature, y='Churn', data=churn_rate, ax=ax2,\n",
    "                linewidth=1, saturation=bar_width)\n",
    "    ax2.set_ylabel('Churn rate (%)', fontsize=16, fontweight='bold')\n",
    "    ax2.set_xlabel(feature, fontsize=16, fontweight='bold')\n",
    "    ax2.tick_params(axis='both', labelsize=14)\n",
    "\n",
    "    for p in ax2.patches:\n",
    "        ax2.annotate('{:.2f}%'.format(p.get_height()), \n",
    "                      (p.get_x() + p.get_width() / 2., p.get_height()), \n",
    "                      ha='center', va='center', \n",
    "                      xytext=(0, 5), \n",
    "                      textcoords='offset points', \n",
    "                      fontsize=14, fontweight='bold')\n",
    "\n",
    "    ax2.set_xticks(range(len(churn_rate[feature])))\n",
    "    ax2.set_xticklabels(churn_rate[feature], fontsize=14, fontweight='bold')\n",
    "\n",
    "    plt.tight_layout()\n",
    "\n",
    "    # Save the figure as an image\n",
    "    fig_path = os.path.join(output_dir, f'{feature}_plot.png')\n",
    "    plt.savefig(fig_path, bbox_inches='tight')\n",
    "    plt.close()\n",
    "\n",
    "    # Insert the image into the Excel file\n",
    "    worksheet_name = f'{feature}_Plot'\n",
    "    worksheet = workbook.create_sheet(title=worksheet_name)\n",
    "    img = openpyxl.drawing.image.Image(fig_path)\n",
    "    worksheet.add_image(img, 'A1')\n",
    "\n",
    "# Create a pandas ExcelWriter object using a context manager\n",
    "with pd.ExcelWriter(os.path.join(output_dir, 'plots.xlsx'), engine='openpyxl') as excel_writer:\n",
    "    workbook = excel_writer.book\n",
    "\n",
    "    num_features = ['PackageValiditydays']\n",
    "    cat_features = ['age_range', 'Gender', 'HNI Customer', 'Zone', 'Item', 'BusinessUnit', 'TierName',\n",
    "                'Marketbucket', 'Free', 'AQU', 'status2', 'ExistNewTag', 'FinalAmount',\n",
    "                'InvoiceCenterCode', 'Promotion', 'Category', 'PackageCode',\n",
    "                'CenterCode', 'finalInvoiceId', 'month', 'year']\n",
    "\n",
    "    for feature in cat_features:\n",
    "        plot_categorical(feature, workbook)\n"
   ]
  }
 ],
 "metadata": {
  "kernelspec": {
   "display_name": "training",
   "language": "python",
   "name": "python3"
  },
  "language_info": {
   "codemirror_mode": {
    "name": "ipython",
    "version": 3
   },
   "file_extension": ".py",
   "mimetype": "text/x-python",
   "name": "python",
   "nbconvert_exporter": "python",
   "pygments_lexer": "ipython3",
   "version": "3.12.5"
  }
 },
 "nbformat": 4,
 "nbformat_minor": 2
}
