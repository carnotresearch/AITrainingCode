{
 "cells": [
  {
   "cell_type": "markdown",
   "metadata": {},
   "source": [
    "## Import Libraries"
   ]
  },
  {
   "cell_type": "code",
   "execution_count": 1,
   "metadata": {},
   "outputs": [],
   "source": [
    "import pandas as pd\n",
    "import joblib\n",
    "from catboost import CatBoostClassifier"
   ]
  },
  {
   "cell_type": "markdown",
   "metadata": {},
   "source": [
    "<span style=\"font-size: 22px;\">Create Directory if it doesnot exist</span>"
   ]
  },
  {
   "cell_type": "code",
   "execution_count": 2,
   "metadata": {},
   "outputs": [
    {
     "data": {
      "text/html": [
       "<div>\n",
       "<style scoped>\n",
       "    .dataframe tbody tr th:only-of-type {\n",
       "        vertical-align: middle;\n",
       "    }\n",
       "\n",
       "    .dataframe tbody tr th {\n",
       "        vertical-align: top;\n",
       "    }\n",
       "\n",
       "    .dataframe thead th {\n",
       "        text-align: right;\n",
       "    }\n",
       "</style>\n",
       "<table border=\"1\" class=\"dataframe\">\n",
       "  <thead>\n",
       "    <tr style=\"text-align: right;\">\n",
       "      <th></th>\n",
       "      <th>kay_contactid</th>\n",
       "      <th>Gender</th>\n",
       "      <th>birthdate</th>\n",
       "      <th>HNI Customer</th>\n",
       "      <th>Customer Concern</th>\n",
       "      <th>age</th>\n",
       "      <th>abs_age</th>\n",
       "      <th>age_range</th>\n",
       "      <th>Zone</th>\n",
       "      <th>Item</th>\n",
       "      <th>...</th>\n",
       "      <th>CenterCode</th>\n",
       "      <th>Invoicecenter</th>\n",
       "      <th>PackageValiditydays</th>\n",
       "      <th>Free</th>\n",
       "      <th>AQU</th>\n",
       "      <th>status2</th>\n",
       "      <th>ExistNewTag</th>\n",
       "      <th>Churn</th>\n",
       "      <th>month</th>\n",
       "      <th>year</th>\n",
       "    </tr>\n",
       "  </thead>\n",
       "  <tbody>\n",
       "    <tr>\n",
       "      <th>1048</th>\n",
       "      <td>CGRC21299</td>\n",
       "      <td>Female</td>\n",
       "      <td>1992-11-24</td>\n",
       "      <td>Yes</td>\n",
       "      <td>NaN</td>\n",
       "      <td>31</td>\n",
       "      <td>31</td>\n",
       "      <td>30-40</td>\n",
       "      <td>WEST-NITIN</td>\n",
       "      <td>Package</td>\n",
       "      <td>...</td>\n",
       "      <td>KAMI</td>\n",
       "      <td>NaN</td>\n",
       "      <td>90</td>\n",
       "      <td>no</td>\n",
       "      <td>No</td>\n",
       "      <td>LIVE</td>\n",
       "      <td>Existing</td>\n",
       "      <td>1</td>\n",
       "      <td>10</td>\n",
       "      <td>2021</td>\n",
       "    </tr>\n",
       "    <tr>\n",
       "      <th>1062</th>\n",
       "      <td>CGRC21319</td>\n",
       "      <td>Male</td>\n",
       "      <td>2000-01-01</td>\n",
       "      <td>Yes</td>\n",
       "      <td>NaN</td>\n",
       "      <td>24</td>\n",
       "      <td>24</td>\n",
       "      <td>20-30</td>\n",
       "      <td>WEST-NITIN</td>\n",
       "      <td>Package</td>\n",
       "      <td>...</td>\n",
       "      <td>KAMI</td>\n",
       "      <td>NaN</td>\n",
       "      <td>270</td>\n",
       "      <td>no</td>\n",
       "      <td>No</td>\n",
       "      <td>LIVE</td>\n",
       "      <td>Existing</td>\n",
       "      <td>0</td>\n",
       "      <td>12</td>\n",
       "      <td>2021</td>\n",
       "    </tr>\n",
       "    <tr>\n",
       "      <th>1061</th>\n",
       "      <td>CGRC21319</td>\n",
       "      <td>Male</td>\n",
       "      <td>2000-01-01</td>\n",
       "      <td>Yes</td>\n",
       "      <td>NaN</td>\n",
       "      <td>24</td>\n",
       "      <td>24</td>\n",
       "      <td>20-30</td>\n",
       "      <td>WEST-NITIN</td>\n",
       "      <td>Package</td>\n",
       "      <td>...</td>\n",
       "      <td>KAMI</td>\n",
       "      <td>NaN</td>\n",
       "      <td>270</td>\n",
       "      <td>no</td>\n",
       "      <td>No</td>\n",
       "      <td>LIVE</td>\n",
       "      <td>Existing</td>\n",
       "      <td>0</td>\n",
       "      <td>12</td>\n",
       "      <td>2021</td>\n",
       "    </tr>\n",
       "    <tr>\n",
       "      <th>1063</th>\n",
       "      <td>CGRC21319</td>\n",
       "      <td>Male</td>\n",
       "      <td>2000-01-01</td>\n",
       "      <td>Yes</td>\n",
       "      <td>NaN</td>\n",
       "      <td>24</td>\n",
       "      <td>24</td>\n",
       "      <td>20-30</td>\n",
       "      <td>WEST-NITIN</td>\n",
       "      <td>Package</td>\n",
       "      <td>...</td>\n",
       "      <td>KAMI</td>\n",
       "      <td>NaN</td>\n",
       "      <td>270</td>\n",
       "      <td>no</td>\n",
       "      <td>No</td>\n",
       "      <td>LIVE</td>\n",
       "      <td>Existing</td>\n",
       "      <td>0</td>\n",
       "      <td>11</td>\n",
       "      <td>2021</td>\n",
       "    </tr>\n",
       "    <tr>\n",
       "      <th>1049</th>\n",
       "      <td>CGRC21358</td>\n",
       "      <td>Female</td>\n",
       "      <td>2000-01-01</td>\n",
       "      <td>Yes</td>\n",
       "      <td>NaN</td>\n",
       "      <td>24</td>\n",
       "      <td>24</td>\n",
       "      <td>20-30</td>\n",
       "      <td>WEST-NITIN</td>\n",
       "      <td>Package</td>\n",
       "      <td>...</td>\n",
       "      <td>KAMI</td>\n",
       "      <td>NaN</td>\n",
       "      <td>365</td>\n",
       "      <td>no</td>\n",
       "      <td>No</td>\n",
       "      <td>LIVE</td>\n",
       "      <td>Existing</td>\n",
       "      <td>0</td>\n",
       "      <td>10</td>\n",
       "      <td>2021</td>\n",
       "    </tr>\n",
       "  </tbody>\n",
       "</table>\n",
       "<p>5 rows × 29 columns</p>\n",
       "</div>"
      ],
      "text/plain": [
       "     kay_contactid  Gender   birthdate HNI Customer  Customer Concern  age  \\\n",
       "1048     CGRC21299  Female  1992-11-24          Yes               NaN   31   \n",
       "1062     CGRC21319    Male  2000-01-01          Yes               NaN   24   \n",
       "1061     CGRC21319    Male  2000-01-01          Yes               NaN   24   \n",
       "1063     CGRC21319    Male  2000-01-01          Yes               NaN   24   \n",
       "1049     CGRC21358  Female  2000-01-01          Yes               NaN   24   \n",
       "\n",
       "      abs_age age_range        Zone     Item  ... CenterCode Invoicecenter  \\\n",
       "1048       31     30-40  WEST-NITIN  Package  ...       KAMI           NaN   \n",
       "1062       24     20-30  WEST-NITIN  Package  ...       KAMI           NaN   \n",
       "1061       24     20-30  WEST-NITIN  Package  ...       KAMI           NaN   \n",
       "1063       24     20-30  WEST-NITIN  Package  ...       KAMI           NaN   \n",
       "1049       24     20-30  WEST-NITIN  Package  ...       KAMI           NaN   \n",
       "\n",
       "     PackageValiditydays Free AQU  status2 ExistNewTag Churn month  year  \n",
       "1048                  90   no  No     LIVE    Existing     1    10  2021  \n",
       "1062                 270   no  No     LIVE    Existing     0    12  2021  \n",
       "1061                 270   no  No     LIVE    Existing     0    12  2021  \n",
       "1063                 270   no  No     LIVE    Existing     0    11  2021  \n",
       "1049                 365   no  No     LIVE    Existing     0    10  2021  \n",
       "\n",
       "[5 rows x 29 columns]"
      ]
     },
     "execution_count": 2,
     "metadata": {},
     "output_type": "execute_result"
    }
   ],
   "source": [
    "# Load the new dataset\n",
    "new_data = pd.read_csv('../output/finalData.csv')\n",
    "\n",
    "new_data = new_data.sort_values(by='kay_contactid')\n",
    "\n",
    "new_data = new_data.iloc[200:400]\n",
    "\n",
    "# Display the first few rows of the new dataset to check\n",
    "new_data.head(5)"
   ]
  },
  {
   "cell_type": "markdown",
   "metadata": {},
   "source": [
    "<span style=\"font-size: 22px;\">Load the preprocessing pipeline</span>"
   ]
  },
  {
   "cell_type": "code",
   "execution_count": 3,
   "metadata": {},
   "outputs": [],
   "source": [
    "loaded_pipeline = joblib.load('../model/preprocessing_pipeline.pkl')\n",
    "num_transformer = loaded_pipeline['num_transformer']\n",
    "cat_transformer = loaded_pipeline['cat_transformer']"
   ]
  },
  {
   "cell_type": "markdown",
   "metadata": {},
   "source": [
    "<span style=\"font-size: 22px;\">Define the numerical and categorical features (same as used during training)</span>"
   ]
  },
  {
   "cell_type": "code",
   "execution_count": 4,
   "metadata": {},
   "outputs": [],
   "source": [
    "# Define the numerical and categorical features (same as used during training)\n",
    "num_features = ['PackageValiditydays']\n",
    "cat_features = ['age_range', 'Gender', 'HNI Customer', 'Zone', 'Item', 'BusinessUnit', 'TierName',\n",
    "                'Marketbucket', 'Free', 'AQU', 'status2', 'ExistNewTag', 'FinalAmount',\n",
    "                'InvoiceCenterCode', 'Promotion', 'Category', 'PackageCode',\n",
    "                'CenterCode', 'finalInvoiceId', 'month', 'year']\n",
    "\n",
    "# Check if all cat_features are in the new data\n",
    "missing_features = set(cat_features) - set(new_data.columns)\n",
    "if missing_features:\n",
    "    raise ValueError(f\"Missing columns in new_data: {missing_features}\")"
   ]
  },
  {
   "cell_type": "markdown",
   "metadata": {},
   "source": [
    "<span style=\"font-size: 22px;\">Preprocess numerical features (standard scaling)</span>"
   ]
  },
  {
   "cell_type": "code",
   "execution_count": 5,
   "metadata": {},
   "outputs": [],
   "source": [
    "new_data_num = num_transformer.transform(new_data[num_features])"
   ]
  },
  {
   "cell_type": "markdown",
   "metadata": {},
   "source": [
    "<span style=\"font-size: 22px;\">Preprocess categorical features (one-hot encoding)</span>"
   ]
  },
  {
   "cell_type": "code",
   "execution_count": 6,
   "metadata": {},
   "outputs": [],
   "source": [
    "new_data_cat = cat_transformer.transform(new_data[cat_features])"
   ]
  },
  {
   "cell_type": "markdown",
   "metadata": {},
   "source": [
    "<span style=\"font-size: 22px;\">Concatenate the processed numerical and categorical features</span>"
   ]
  },
  {
   "cell_type": "code",
   "execution_count": 7,
   "metadata": {},
   "outputs": [
    {
     "name": "stdout",
     "output_type": "stream",
     "text": [
      "New dataset preprocessing completed!\n"
     ]
    }
   ],
   "source": [
    "new_data_processed = pd.concat([pd.DataFrame(new_data_num, columns=num_features),\n",
    "                                 pd.DataFrame(new_data_cat.toarray(), columns=cat_transformer.get_feature_names_out(cat_features))],\n",
    "                                axis=1)\n",
    "\n",
    "print(\"New dataset preprocessing completed!\")"
   ]
  },
  {
   "cell_type": "markdown",
   "metadata": {},
   "source": [
    "<span style=\"font-size: 22px;\">Load the CatBoost model</span>"
   ]
  },
  {
   "cell_type": "code",
   "execution_count": 8,
   "metadata": {},
   "outputs": [
    {
     "data": {
      "text/plain": [
       "<catboost.core.CatBoostClassifier at 0x2863f24fa70>"
      ]
     },
     "execution_count": 8,
     "metadata": {},
     "output_type": "execute_result"
    }
   ],
   "source": [
    "# Load the CatBoost model\n",
    "loaded_model = CatBoostClassifier()\n",
    "loaded_model.load_model(\"../model/catboost_model.cbm\")"
   ]
  },
  {
   "cell_type": "markdown",
   "metadata": {},
   "source": [
    "<span style=\"font-size: 22px;\">Make predictions on the new dataset</span>"
   ]
  },
  {
   "cell_type": "code",
   "execution_count": 9,
   "metadata": {},
   "outputs": [
    {
     "name": "stdout",
     "output_type": "stream",
     "text": [
      "Predictions added to the new dataset and saved to 'new_data_with_predictions.csv'!\n"
     ]
    }
   ],
   "source": [
    "y_new_pred = loaded_model.predict(new_data_processed)\n",
    "\n",
    "# Add predictions to the new data\n",
    "new_data['Predicted_Churn'] = y_new_pred\n",
    "\n",
    "# Save the new dataset with predictions to a CSV file\n",
    "new_data.to_csv('../output/predictions/new_data_with_predictions.csv', index=False)\n",
    "\n",
    "print(\"Predictions added to the new dataset and saved to 'new_data_with_predictions.csv'!\")"
   ]
  },
  {
   "cell_type": "code",
   "execution_count": 10,
   "metadata": {},
   "outputs": [
    {
     "data": {
      "text/html": [
       "<div>\n",
       "<style scoped>\n",
       "    .dataframe tbody tr th:only-of-type {\n",
       "        vertical-align: middle;\n",
       "    }\n",
       "\n",
       "    .dataframe tbody tr th {\n",
       "        vertical-align: top;\n",
       "    }\n",
       "\n",
       "    .dataframe thead th {\n",
       "        text-align: right;\n",
       "    }\n",
       "</style>\n",
       "<table border=\"1\" class=\"dataframe\">\n",
       "  <thead>\n",
       "    <tr style=\"text-align: right;\">\n",
       "      <th></th>\n",
       "      <th>kay_contactid</th>\n",
       "      <th>Gender</th>\n",
       "      <th>birthdate</th>\n",
       "      <th>HNI Customer</th>\n",
       "      <th>Customer Concern</th>\n",
       "      <th>age</th>\n",
       "      <th>abs_age</th>\n",
       "      <th>age_range</th>\n",
       "      <th>Zone</th>\n",
       "      <th>Item</th>\n",
       "      <th>...</th>\n",
       "      <th>Invoicecenter</th>\n",
       "      <th>PackageValiditydays</th>\n",
       "      <th>Free</th>\n",
       "      <th>AQU</th>\n",
       "      <th>status2</th>\n",
       "      <th>ExistNewTag</th>\n",
       "      <th>Churn</th>\n",
       "      <th>month</th>\n",
       "      <th>year</th>\n",
       "      <th>Predicted_Churn</th>\n",
       "    </tr>\n",
       "  </thead>\n",
       "  <tbody>\n",
       "    <tr>\n",
       "      <th>1048</th>\n",
       "      <td>CGRC21299</td>\n",
       "      <td>Female</td>\n",
       "      <td>1992-11-24</td>\n",
       "      <td>Yes</td>\n",
       "      <td>NaN</td>\n",
       "      <td>31</td>\n",
       "      <td>31</td>\n",
       "      <td>30-40</td>\n",
       "      <td>WEST-NITIN</td>\n",
       "      <td>Package</td>\n",
       "      <td>...</td>\n",
       "      <td>NaN</td>\n",
       "      <td>90</td>\n",
       "      <td>no</td>\n",
       "      <td>No</td>\n",
       "      <td>LIVE</td>\n",
       "      <td>Existing</td>\n",
       "      <td>1</td>\n",
       "      <td>10</td>\n",
       "      <td>2021</td>\n",
       "      <td>0</td>\n",
       "    </tr>\n",
       "    <tr>\n",
       "      <th>1062</th>\n",
       "      <td>CGRC21319</td>\n",
       "      <td>Male</td>\n",
       "      <td>2000-01-01</td>\n",
       "      <td>Yes</td>\n",
       "      <td>NaN</td>\n",
       "      <td>24</td>\n",
       "      <td>24</td>\n",
       "      <td>20-30</td>\n",
       "      <td>WEST-NITIN</td>\n",
       "      <td>Package</td>\n",
       "      <td>...</td>\n",
       "      <td>NaN</td>\n",
       "      <td>270</td>\n",
       "      <td>no</td>\n",
       "      <td>No</td>\n",
       "      <td>LIVE</td>\n",
       "      <td>Existing</td>\n",
       "      <td>0</td>\n",
       "      <td>12</td>\n",
       "      <td>2021</td>\n",
       "      <td>0</td>\n",
       "    </tr>\n",
       "    <tr>\n",
       "      <th>1061</th>\n",
       "      <td>CGRC21319</td>\n",
       "      <td>Male</td>\n",
       "      <td>2000-01-01</td>\n",
       "      <td>Yes</td>\n",
       "      <td>NaN</td>\n",
       "      <td>24</td>\n",
       "      <td>24</td>\n",
       "      <td>20-30</td>\n",
       "      <td>WEST-NITIN</td>\n",
       "      <td>Package</td>\n",
       "      <td>...</td>\n",
       "      <td>NaN</td>\n",
       "      <td>270</td>\n",
       "      <td>no</td>\n",
       "      <td>No</td>\n",
       "      <td>LIVE</td>\n",
       "      <td>Existing</td>\n",
       "      <td>0</td>\n",
       "      <td>12</td>\n",
       "      <td>2021</td>\n",
       "      <td>0</td>\n",
       "    </tr>\n",
       "  </tbody>\n",
       "</table>\n",
       "<p>3 rows × 30 columns</p>\n",
       "</div>"
      ],
      "text/plain": [
       "     kay_contactid  Gender   birthdate HNI Customer  Customer Concern  age  \\\n",
       "1048     CGRC21299  Female  1992-11-24          Yes               NaN   31   \n",
       "1062     CGRC21319    Male  2000-01-01          Yes               NaN   24   \n",
       "1061     CGRC21319    Male  2000-01-01          Yes               NaN   24   \n",
       "\n",
       "      abs_age age_range        Zone     Item  ... Invoicecenter  \\\n",
       "1048       31     30-40  WEST-NITIN  Package  ...           NaN   \n",
       "1062       24     20-30  WEST-NITIN  Package  ...           NaN   \n",
       "1061       24     20-30  WEST-NITIN  Package  ...           NaN   \n",
       "\n",
       "     PackageValiditydays Free AQU status2  ExistNewTag Churn month  year  \\\n",
       "1048                  90   no  No    LIVE     Existing     1    10  2021   \n",
       "1062                 270   no  No    LIVE     Existing     0    12  2021   \n",
       "1061                 270   no  No    LIVE     Existing     0    12  2021   \n",
       "\n",
       "     Predicted_Churn  \n",
       "1048               0  \n",
       "1062               0  \n",
       "1061               0  \n",
       "\n",
       "[3 rows x 30 columns]"
      ]
     },
     "execution_count": 10,
     "metadata": {},
     "output_type": "execute_result"
    }
   ],
   "source": [
    "new_data.head(3)"
   ]
  }
 ],
 "metadata": {
  "kernelspec": {
   "display_name": "training",
   "language": "python",
   "name": "python3"
  },
  "language_info": {
   "codemirror_mode": {
    "name": "ipython",
    "version": 3
   },
   "file_extension": ".py",
   "mimetype": "text/x-python",
   "name": "python",
   "nbconvert_exporter": "python",
   "pygments_lexer": "ipython3",
   "version": "3.12.5"
  }
 },
 "nbformat": 4,
 "nbformat_minor": 2
}
